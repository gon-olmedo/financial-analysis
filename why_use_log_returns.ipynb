# import the usual suspects
import datetime as dt
import matplotlib.pyplot as plt
# import matplotlib as mpl
# import math
import numpy as np
import pandas as pd
import scipy.stats as stats
import seaborn as sns
import warnings

# mpl.rcParams['agg.path.chunksize'] = 1000000
%config Completer.use_jedi = False
warnings.filterwarnings('ignore')
sns.set()

# define our selection of chunks to split the period into
chunks = [x for x in range(1, 101)]
# define initial price, simple return
s0 = 100
r_s = 0.12
# define our final prices
sT = [s0*(1+r_s/x)**x for x in chunks]

# plot them
fig, ax = plt.subplots(figsize=(24,12))

ax.plot(chunks, sT)
ax.set_title('Final price vs number of chunks we divide a period into', fontsize=24)
ax.set_xlabel('Period Count', fontsize=20)
ax.set_ylabel('Final Price', fontsize=20);