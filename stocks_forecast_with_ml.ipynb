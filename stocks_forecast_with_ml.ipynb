{
 "cells": [
  {
   "attachments": {},
   "cell_type": "markdown",
   "metadata": {},
   "source": [
    "# 1. Import Assets"
   ]
  },
  {
   "cell_type": "code",
   "execution_count": null,
   "metadata": {},
   "outputs": [],
   "source": [
    "import yfinance as yf\n",
    "import numpy as np\n",
    "import pandas as df"
   ]
  },
  {
   "attachments": {},
   "cell_type": "markdown",
   "metadata": {},
   "source": [
    "# 2. Download Stocks Data"
   ]
  },
  {
   "cell_type": "code",
   "execution_count": 3,
   "metadata": {},
   "outputs": [
    {
     "name": "stdout",
     "output_type": "stream",
     "text": [
      "[*********************100%***********************]  1 of 1 completed\n"
     ]
    }
   ],
   "source": [
    "# Download dat of the S&P 500 (ticker: GSPC)\n",
    "df = yf.download('^GSPC', start='2010-10-01')"
   ]
  },
  {
   "cell_type": "code",
   "execution_count": 5,
   "metadata": {},
   "outputs": [],
   "source": [
    "# create a column with the daily retuns\n",
    "df['return'] = (np\n",
    ".log(\n",
    "    df['Close'].pct_change()\n",
    "    + 1)\n",
    ")"
   ]
  },
  {
   "cell_type": "code",
   "execution_count": 11,
   "metadata": {},
   "outputs": [],
   "source": [
    "def lagit(df, lags):\n",
    "    names = []\n",
    "    for i in range(1, lags + 1):\n",
    "        df['Lag_'+str(i)] = df['return'].shift(i)\n",
    "        names.append('Lag_'+str(i))\n",
    "    return names"
   ]
  },
  {
   "cell_type": "code",
   "execution_count": 12,
   "metadata": {},
   "outputs": [],
   "source": [
    " lagnames = lagit(df, 5)"
   ]
  },
  {
   "cell_type": "code",
   "execution_count": 13,
   "metadata": {},
   "outputs": [
    {
     "data": {
      "text/plain": [
       "['Lag_1', 'Lag_2', 'Lag_3', 'Lag_4', 'Lag_5']"
      ]
     },
     "execution_count": 13,
     "metadata": {},
     "output_type": "execute_result"
    }
   ],
   "source": [
    "lagnames"
   ]
  },
  {
   "cell_type": "code",
   "execution_count": 14,
   "metadata": {},
   "outputs": [
    {
     "data": {
      "text/html": [
       "<div>\n",
       "<style scoped>\n",
       "    .dataframe tbody tr th:only-of-type {\n",
       "        vertical-align: middle;\n",
       "    }\n",
       "\n",
       "    .dataframe tbody tr th {\n",
       "        vertical-align: top;\n",
       "    }\n",
       "\n",
       "    .dataframe thead th {\n",
       "        text-align: right;\n",
       "    }\n",
       "</style>\n",
       "<table border=\"1\" class=\"dataframe\">\n",
       "  <thead>\n",
       "    <tr style=\"text-align: right;\">\n",
       "      <th></th>\n",
       "      <th>Open</th>\n",
       "      <th>High</th>\n",
       "      <th>Low</th>\n",
       "      <th>Close</th>\n",
       "      <th>Adj Close</th>\n",
       "      <th>Volume</th>\n",
       "      <th>return</th>\n",
       "      <th>Lag_1</th>\n",
       "      <th>Lag_2</th>\n",
       "      <th>Lag_3</th>\n",
       "      <th>Lag_4</th>\n",
       "      <th>Lag_5</th>\n",
       "    </tr>\n",
       "    <tr>\n",
       "      <th>Date</th>\n",
       "      <th></th>\n",
       "      <th></th>\n",
       "      <th></th>\n",
       "      <th></th>\n",
       "      <th></th>\n",
       "      <th></th>\n",
       "      <th></th>\n",
       "      <th></th>\n",
       "      <th></th>\n",
       "      <th></th>\n",
       "      <th></th>\n",
       "      <th></th>\n",
       "    </tr>\n",
       "  </thead>\n",
       "  <tbody>\n",
       "    <tr>\n",
       "      <th>2010-10-01</th>\n",
       "      <td>1143.489990</td>\n",
       "      <td>1150.300049</td>\n",
       "      <td>1139.420044</td>\n",
       "      <td>1146.239990</td>\n",
       "      <td>1146.239990</td>\n",
       "      <td>4298910000</td>\n",
       "      <td>NaN</td>\n",
       "      <td>NaN</td>\n",
       "      <td>NaN</td>\n",
       "      <td>NaN</td>\n",
       "      <td>NaN</td>\n",
       "      <td>NaN</td>\n",
       "    </tr>\n",
       "    <tr>\n",
       "      <th>2010-10-04</th>\n",
       "      <td>1144.959961</td>\n",
       "      <td>1148.160034</td>\n",
       "      <td>1131.869995</td>\n",
       "      <td>1137.030029</td>\n",
       "      <td>1137.030029</td>\n",
       "      <td>3604110000</td>\n",
       "      <td>-0.008067</td>\n",
       "      <td>NaN</td>\n",
       "      <td>NaN</td>\n",
       "      <td>NaN</td>\n",
       "      <td>NaN</td>\n",
       "      <td>NaN</td>\n",
       "    </tr>\n",
       "    <tr>\n",
       "      <th>2010-10-05</th>\n",
       "      <td>1140.680054</td>\n",
       "      <td>1162.760010</td>\n",
       "      <td>1140.680054</td>\n",
       "      <td>1160.750000</td>\n",
       "      <td>1160.750000</td>\n",
       "      <td>4068840000</td>\n",
       "      <td>0.020647</td>\n",
       "      <td>-0.008067</td>\n",
       "      <td>NaN</td>\n",
       "      <td>NaN</td>\n",
       "      <td>NaN</td>\n",
       "      <td>NaN</td>\n",
       "    </tr>\n",
       "    <tr>\n",
       "      <th>2010-10-06</th>\n",
       "      <td>1159.810059</td>\n",
       "      <td>1162.329956</td>\n",
       "      <td>1154.849976</td>\n",
       "      <td>1159.969971</td>\n",
       "      <td>1159.969971</td>\n",
       "      <td>4073160000</td>\n",
       "      <td>-0.000672</td>\n",
       "      <td>0.020647</td>\n",
       "      <td>-0.008067</td>\n",
       "      <td>NaN</td>\n",
       "      <td>NaN</td>\n",
       "      <td>NaN</td>\n",
       "    </tr>\n",
       "    <tr>\n",
       "      <th>2010-10-07</th>\n",
       "      <td>1161.569946</td>\n",
       "      <td>1163.869995</td>\n",
       "      <td>1151.410034</td>\n",
       "      <td>1158.060059</td>\n",
       "      <td>1158.060059</td>\n",
       "      <td>3910550000</td>\n",
       "      <td>-0.001648</td>\n",
       "      <td>-0.000672</td>\n",
       "      <td>0.020647</td>\n",
       "      <td>-0.008067</td>\n",
       "      <td>NaN</td>\n",
       "      <td>NaN</td>\n",
       "    </tr>\n",
       "  </tbody>\n",
       "</table>\n",
       "</div>"
      ],
      "text/plain": [
       "                   Open         High          Low        Close    Adj Close  \\\n",
       "Date                                                                          \n",
       "2010-10-01  1143.489990  1150.300049  1139.420044  1146.239990  1146.239990   \n",
       "2010-10-04  1144.959961  1148.160034  1131.869995  1137.030029  1137.030029   \n",
       "2010-10-05  1140.680054  1162.760010  1140.680054  1160.750000  1160.750000   \n",
       "2010-10-06  1159.810059  1162.329956  1154.849976  1159.969971  1159.969971   \n",
       "2010-10-07  1161.569946  1163.869995  1151.410034  1158.060059  1158.060059   \n",
       "\n",
       "                Volume    return     Lag_1     Lag_2     Lag_3  Lag_4  Lag_5  \n",
       "Date                                                                          \n",
       "2010-10-01  4298910000       NaN       NaN       NaN       NaN    NaN    NaN  \n",
       "2010-10-04  3604110000 -0.008067       NaN       NaN       NaN    NaN    NaN  \n",
       "2010-10-05  4068840000  0.020647 -0.008067       NaN       NaN    NaN    NaN  \n",
       "2010-10-06  4073160000 -0.000672  0.020647 -0.008067       NaN    NaN    NaN  \n",
       "2010-10-07  3910550000 -0.001648 -0.000672  0.020647 -0.008067    NaN    NaN  "
      ]
     },
     "execution_count": 14,
     "metadata": {},
     "output_type": "execute_result"
    }
   ],
   "source": [
    "df.head()"
   ]
  },
  {
   "cell_type": "code",
   "execution_count": 15,
   "metadata": {},
   "outputs": [],
   "source": [
    "df.dropna(inplace=True)"
   ]
  },
  {
   "cell_type": "code",
   "execution_count": 16,
   "metadata": {},
   "outputs": [],
   "source": [
    "from sklearn.linear_model import  LinearRegression"
   ]
  },
  {
   "cell_type": "code",
   "execution_count": 17,
   "metadata": {},
   "outputs": [],
   "source": [
    "model = LinearRegression()"
   ]
  },
  {
   "cell_type": "code",
   "execution_count": 18,
   "metadata": {},
   "outputs": [
    {
     "data": {
      "text/plain": [
       "LinearRegression()"
      ]
     },
     "execution_count": 18,
     "metadata": {},
     "output_type": "execute_result"
    }
   ],
   "source": [
    "model.fit(df[lagnames], df['return'])"
   ]
  },
  {
   "cell_type": "code",
   "execution_count": 19,
   "metadata": {},
   "outputs": [],
   "source": [
    "df['prediction_LR'] = model.predict(df[lagnames])"
   ]
  },
  {
   "cell_type": "code",
   "execution_count": 20,
   "metadata": {},
   "outputs": [
    {
     "data": {
      "text/html": [
       "<div>\n",
       "<style scoped>\n",
       "    .dataframe tbody tr th:only-of-type {\n",
       "        vertical-align: middle;\n",
       "    }\n",
       "\n",
       "    .dataframe tbody tr th {\n",
       "        vertical-align: top;\n",
       "    }\n",
       "\n",
       "    .dataframe thead th {\n",
       "        text-align: right;\n",
       "    }\n",
       "</style>\n",
       "<table border=\"1\" class=\"dataframe\">\n",
       "  <thead>\n",
       "    <tr style=\"text-align: right;\">\n",
       "      <th></th>\n",
       "      <th>Open</th>\n",
       "      <th>High</th>\n",
       "      <th>Low</th>\n",
       "      <th>Close</th>\n",
       "      <th>Adj Close</th>\n",
       "      <th>Volume</th>\n",
       "      <th>return</th>\n",
       "      <th>Lag_1</th>\n",
       "      <th>Lag_2</th>\n",
       "      <th>Lag_3</th>\n",
       "      <th>Lag_4</th>\n",
       "      <th>Lag_5</th>\n",
       "      <th>prediction_LR</th>\n",
       "    </tr>\n",
       "    <tr>\n",
       "      <th>Date</th>\n",
       "      <th></th>\n",
       "      <th></th>\n",
       "      <th></th>\n",
       "      <th></th>\n",
       "      <th></th>\n",
       "      <th></th>\n",
       "      <th></th>\n",
       "      <th></th>\n",
       "      <th></th>\n",
       "      <th></th>\n",
       "      <th></th>\n",
       "      <th></th>\n",
       "      <th></th>\n",
       "    </tr>\n",
       "  </thead>\n",
       "  <tbody>\n",
       "    <tr>\n",
       "      <th>2010-10-11</th>\n",
       "      <td>1165.319946</td>\n",
       "      <td>1168.680054</td>\n",
       "      <td>1162.020020</td>\n",
       "      <td>1165.319946</td>\n",
       "      <td>1165.319946</td>\n",
       "      <td>2505900000</td>\n",
       "      <td>0.000146</td>\n",
       "      <td>0.006104</td>\n",
       "      <td>-0.001648</td>\n",
       "      <td>-0.000672</td>\n",
       "      <td>0.020647</td>\n",
       "      <td>-0.008067</td>\n",
       "      <td>-0.001498</td>\n",
       "    </tr>\n",
       "    <tr>\n",
       "      <th>2010-10-12</th>\n",
       "      <td>1164.280029</td>\n",
       "      <td>1172.579956</td>\n",
       "      <td>1155.709961</td>\n",
       "      <td>1169.770020</td>\n",
       "      <td>1169.770020</td>\n",
       "      <td>4076170000</td>\n",
       "      <td>0.003811</td>\n",
       "      <td>0.000146</td>\n",
       "      <td>0.006104</td>\n",
       "      <td>-0.001648</td>\n",
       "      <td>-0.000672</td>\n",
       "      <td>0.020647</td>\n",
       "      <td>0.000920</td>\n",
       "    </tr>\n",
       "    <tr>\n",
       "      <th>2010-10-13</th>\n",
       "      <td>1171.319946</td>\n",
       "      <td>1184.380005</td>\n",
       "      <td>1171.319946</td>\n",
       "      <td>1178.099976</td>\n",
       "      <td>1178.099976</td>\n",
       "      <td>4969410000</td>\n",
       "      <td>0.007096</td>\n",
       "      <td>0.003811</td>\n",
       "      <td>0.000146</td>\n",
       "      <td>0.006104</td>\n",
       "      <td>-0.001648</td>\n",
       "      <td>-0.000672</td>\n",
       "      <td>-0.000048</td>\n",
       "    </tr>\n",
       "    <tr>\n",
       "      <th>2010-10-14</th>\n",
       "      <td>1177.819946</td>\n",
       "      <td>1178.890015</td>\n",
       "      <td>1166.709961</td>\n",
       "      <td>1173.810059</td>\n",
       "      <td>1173.810059</td>\n",
       "      <td>4969410000</td>\n",
       "      <td>-0.003648</td>\n",
       "      <td>0.007096</td>\n",
       "      <td>0.003811</td>\n",
       "      <td>0.000146</td>\n",
       "      <td>0.006104</td>\n",
       "      <td>-0.001648</td>\n",
       "      <td>-0.000470</td>\n",
       "    </tr>\n",
       "    <tr>\n",
       "      <th>2010-10-15</th>\n",
       "      <td>1177.469971</td>\n",
       "      <td>1181.199951</td>\n",
       "      <td>1167.119995</td>\n",
       "      <td>1176.189941</td>\n",
       "      <td>1176.189941</td>\n",
       "      <td>5724910000</td>\n",
       "      <td>0.002025</td>\n",
       "      <td>-0.003648</td>\n",
       "      <td>0.007096</td>\n",
       "      <td>0.003811</td>\n",
       "      <td>0.000146</td>\n",
       "      <td>0.006104</td>\n",
       "      <td>0.001269</td>\n",
       "    </tr>\n",
       "  </tbody>\n",
       "</table>\n",
       "</div>"
      ],
      "text/plain": [
       "                   Open         High          Low        Close    Adj Close  \\\n",
       "Date                                                                          \n",
       "2010-10-11  1165.319946  1168.680054  1162.020020  1165.319946  1165.319946   \n",
       "2010-10-12  1164.280029  1172.579956  1155.709961  1169.770020  1169.770020   \n",
       "2010-10-13  1171.319946  1184.380005  1171.319946  1178.099976  1178.099976   \n",
       "2010-10-14  1177.819946  1178.890015  1166.709961  1173.810059  1173.810059   \n",
       "2010-10-15  1177.469971  1181.199951  1167.119995  1176.189941  1176.189941   \n",
       "\n",
       "                Volume    return     Lag_1     Lag_2     Lag_3     Lag_4  \\\n",
       "Date                                                                       \n",
       "2010-10-11  2505900000  0.000146  0.006104 -0.001648 -0.000672  0.020647   \n",
       "2010-10-12  4076170000  0.003811  0.000146  0.006104 -0.001648 -0.000672   \n",
       "2010-10-13  4969410000  0.007096  0.003811  0.000146  0.006104 -0.001648   \n",
       "2010-10-14  4969410000 -0.003648  0.007096  0.003811  0.000146  0.006104   \n",
       "2010-10-15  5724910000  0.002025 -0.003648  0.007096  0.003811  0.000146   \n",
       "\n",
       "               Lag_5  prediction_LR  \n",
       "Date                                 \n",
       "2010-10-11 -0.008067      -0.001498  \n",
       "2010-10-12  0.020647       0.000920  \n",
       "2010-10-13 -0.000672      -0.000048  \n",
       "2010-10-14 -0.001648      -0.000470  \n",
       "2010-10-15  0.006104       0.001269  "
      ]
     },
     "execution_count": 20,
     "metadata": {},
     "output_type": "execute_result"
    }
   ],
   "source": [
    "df.head()"
   ]
  },
  {
   "cell_type": "code",
   "execution_count": 21,
   "metadata": {},
   "outputs": [],
   "source": [
    "# if predction is > 0 we want to buy\n",
    "# if < 0 we want to sell\n",
    "\n",
    "df['direction_LR'] = [1 if i > 0 else -1 for i in df['prediction_LR']]"
   ]
  },
  {
   "cell_type": "code",
   "execution_count": 23,
   "metadata": {},
   "outputs": [],
   "source": [
    "df['strategy_LR'] = df['direction_LR'] * df['return']"
   ]
  },
  {
   "cell_type": "code",
   "execution_count": 27,
   "metadata": {},
   "outputs": [
    {
     "data": {
      "text/plain": [
       "return         3.779170\n",
       "strategy_LR    7.260097\n",
       "dtype: float64"
      ]
     },
     "execution_count": 27,
     "metadata": {},
     "output_type": "execute_result"
    }
   ],
   "source": [
    "np.exp(df[['return', 'strategy_LR']].sum())"
   ]
  },
  {
   "cell_type": "code",
   "execution_count": 28,
   "metadata": {},
   "outputs": [
    {
     "data": {
      "text/plain": [
       "<AxesSubplot:xlabel='Date'>"
      ]
     },
     "execution_count": 28,
     "metadata": {},
     "output_type": "execute_result"
    },
    {
     "data": {
      "image/png": "[encoded data removed]",
      "text/plain": [
       "<Figure size 640x480 with 1 Axes>"
      ]
     },
     "metadata": {},
     "output_type": "display_data"
    }
   ],
   "source": [
    "np.exp(df[['return', 'strategy_LR']].cumsum()).plot()"
   ]
  },
  {
   "cell_type": "code",
   "execution_count": null,
   "metadata": {},
   "outputs": [],
   "source": []
  }
 ],
 "metadata": {
  "kernelspec": {
   "display_name": "base",
   "language": "python",
   "name": "python3"
  },
  "language_info": {
   "codemirror_mode": {
    "name": "ipython",
    "version": 3
   },
   "file_extension": ".py",
   "mimetype": "text/x-python",
   "name": "python",
   "nbconvert_exporter": "python",
   "pygments_lexer": "ipython3",
   "version": "3.9.13"
  },
  "orig_nbformat": 4
 },
 "nbformat": 4,
 "nbformat_minor": 2
}
